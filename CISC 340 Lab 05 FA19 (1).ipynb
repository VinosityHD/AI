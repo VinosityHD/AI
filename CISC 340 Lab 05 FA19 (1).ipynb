{
 "cells": [
  {
   "attachments": {
    "HUBanner.png": {
     "image/png": "[encoded data removed]"
    }
   },
   "cell_type": "markdown",
   "metadata": {},
   "source": [
    "![HUBanner.png](attachment:HUBanner.png)\n",
    "<br>\n",
    "# CISC 340\n",
    "# Introduction to Artificial Intelligence\n",
    "## Lab Booklet #05\n",
    "## Lab Title: Artificial Neural Networks\n",
    "***\n",
    "### **Instructors**\n",
    "### Brian Grey M.S.\n",
    "### Chad Van Chu M.S.\n",
    "***"
   ]
  },
  {
   "cell_type": "markdown",
   "metadata": {},
   "source": [
    "# Objectives\n",
    "#### Artificiail neurons and the neural networks that they create are the root of deep learning and much of the AI explosion which has happened over the last 5 years. While neural networks can be used for both supervised and unsupervised learning, we have been examining it from only a supervised paradigm. In this lab, we will be examing different approaches to creating and training neural networks.\n",
    "\n",
    "#### After completing this lab, you will be able to:\n",
    "\n",
    "- __Understand the intrinsic differences of different artificial neurons__\n",
    "- __Understand how different neurons behave__\n",
    "- __Understand the gradiant descent training algorithm__"
   ]
  },
  {
   "cell_type": "markdown",
   "metadata": {},
   "source": [
    "# Resources\n",
    "#### While the lab will explain everything that you need to know, you may want to consult the following sources for additional knowledge:\n",
    "\n",
    "- [https://en.wikipedia.org/wiki/Perceptron](https://en.wikipedia.org/wiki/Perceptron)\n",
    "- [https://en.wikipedia.org/wiki/Artificial_neuron](https://en.wikipedia.org/wiki/Artificial_neuron)\n",
    "- [https://en.wikipedia.org/wiki/Artificial_neural_network](https://en.wikipedia.org/wiki/Artificial_neural_network)"
   ]
  },
  {
   "cell_type": "markdown",
   "metadata": {},
   "source": [
    "# Deliverables\n",
    "#### For this lab, you will need to submit:\n",
    "\n",
    "- Jupyter notebook files (.ipynb), named and coded as instructed. \n",
    "  - CISC 340 Lab 05 FA19.ipynb"
   ]
  },
  {
   "cell_type": "markdown",
   "metadata": {},
   "source": [
    "# <u>Part 1: Artificial Neurons</u>"
   ]
  },
  {
   "cell_type": "markdown",
   "metadata": {},
   "source": [
    "We have discussed 4 different approaches to artificial neurons: step-function perceptrons, linear units, squashing sigmoid units, and squashing tanh units.\n",
    "\n",
    "<u>Step-Function Perceptrons</u>\n",
    "--------------\n",
    "![Perceptron](Perceptron_Diagram.jpg)\n",
    "\n",
    "<br>Above is the diagram for the structure of a step-function perceptron as we covered in class.\n",
    "\n",
    "#### 1. Create a `Perceptron` object with the following, publicly-visible methods: \n",
    "- __`_ _ init _ _ `: Initializer method which takes number of inputs this `Perceptron` expects and configures it appropriately. Note that this number does not include the \"bias\" input.__\n",
    "- __`classify(record)`: Method which takes a record which the method will classify. It should return the classification (i.e. the output from the `Perceptron`).__\n",
    "- __`train(expected_output, output, record)`: Method which takes the expected output of the `Perceptron`, the actual output of the actual output of the `Perceptron`, and the input record which created the output. The method then adjusts the weights of the `Perceptron` using the gradiant descent equation.__"
   ]
  },
  {
   "cell_type": "code",
   "execution_count": 605,
   "metadata": {},
   "outputs": [
    {
     "name": "stdout",
     "output_type": "stream",
     "text": [
      "1\n",
      "None\n"
     ]
    }
   ],
   "source": [
    "# Code Goes Here\n",
    "import numpy as np\n",
    "import random\n",
    "\n",
    "#Input will be two lists; One with values and one with weights\n",
    "\n",
    "class Perceptron():\n",
    "    #weight = []\n",
    "    #val = []\n",
    "    #sum_of_values = 0\n",
    "    \n",
    "    def __init__(self, num_of_inputs):\n",
    "        self.weight = [float(random.randrange(-100, 100)/100) for i in range(num_of_inputs + 1)]\n",
    "        self.num_of_inputs = num_of_inputs\n",
    "        self.bias = self.weight[0]\n",
    "    \n",
    "    def classify(self, record):\n",
    "\n",
    "        bias = (self.weight[0])\n",
    "        #print(self.weight)\n",
    "        \n",
    "        sum_of_values = np.dot(record, self.weight[1:]) + bias\n",
    "        #print(sum_of_values)\n",
    "        #print(\"Sum:\",sum_of_values)\n",
    "        \n",
    "        \n",
    "            \n",
    "        if sum_of_values >= 0:\n",
    "            #print(sum_of_values)\n",
    "            return 1\n",
    "        \n",
    "        else:\n",
    "            #print(sum_of_values)\n",
    "            return 0\n",
    "        \n",
    "    def train(self, expected_output, output, record):\n",
    "        \n",
    "        rate = 0.01\n",
    "        count = 0\n",
    "        weight_count = 1\n",
    "        sum_of_values = 0\n",
    "        \n",
    "        #if (expected_output - output) != 0:\n",
    "        for i in self.weight[1:]:\n",
    "            if (expected_output - output) != 0:\n",
    "                new = i + rate * (expected_output - output) * record[count]\n",
    "            #print(\"Value\",record[count])\n",
    "            #print(\"i\",i)\n",
    "            #print(\"rate\",rate)\n",
    "            #print(\"ex\",expected_output)\n",
    "            #print(\"o\",output)\n",
    "            #print(\"rec\",record[count])\n",
    "            #print(\"VALUE OF THE EQUATION\",new,\"VALUE\", record[count])\n",
    "            #print(\"Weight\",self.weight[weight_count])\n",
    "            #print(\"count\",count)\n",
    "            \n",
    "                self.weight[weight_count] = new\n",
    "            #print(\"updated Weight\",self.weight[weight_count])\n",
    "                count = count + 1\n",
    "                weight_count += 1\n",
    "            #print(new)\n",
    "        #sum_of_values = np.dot(self.weight[1:], record)\n",
    "        count = 0\n",
    "        weight_count = 1\n",
    "        self.bias = self.bias + rate * (expected_output - output)\n",
    "        self.weight[0] = self.bias\n",
    "        #print(sum_of_values)\n",
    "        #print(\"Weight: \",self.weight)\n",
    "        record = self.classify(record)\n",
    "        \n",
    "        \n",
    "p = Perceptron(4)\n",
    "        \n",
    "print(p.classify([1,-1,1,-1]))\n",
    "\n",
    "print(p.train(1, 0, [1,-1,1,-1]))\n",
    "\n",
    "            \n",
    "        \n",
    "    \n",
    "    \n",
    "    \n",
    "    "
   ]
  },
  {
   "cell_type": "markdown",
   "metadata": {},
   "source": [
    "\n",
    "<u>Linear Units</u>\n",
    "--------------\n",
    "![Linear Unit](Linear_Diagram.png)\n",
    "\n",
    "<br>Above is the diagram for the structure of a linear unit as we covered in class.\n",
    "\n",
    "#### 2. Create a `LinearUnit` object with the following, publicly-visible methods: \n",
    "- __`_ _ init _ _ `: Initializer method which takes number of inputs that this `LinearUnit` expects and configures it appropriately.__\n",
    "- __`classify(record)`: Method which takes a record which the method will classify. It should return the classification (i.e. the output from the `LinearUnit`).__\n",
    "- __`train(expected_output, output, record)`: Method which takes the expected output of the `LinearUnit`, the actual output of the actual output of the `LinearUnit`, and the input record which created the output. The method then adjusts the weights of the `LinearUnit` using the gradiant descent equation.__"
   ]
  },
  {
   "cell_type": "code",
   "execution_count": 599,
   "metadata": {},
   "outputs": [
    {
     "name": "stdout",
     "output_type": "stream",
     "text": [
      "0\n"
     ]
    }
   ],
   "source": [
    "# Code Goes Here\n",
    "import random\n",
    "import numpy as np\n",
    "class Linear():\n",
    "    \n",
    "    def __init__(self, num_of_inputs):\n",
    "        self.weight = [float((random.randrange(-100, 101)/100)) for i in (range(num_of_inputs))]\n",
    "        self.num_of_inputs = num_of_inputs\n",
    "        \n",
    "    def classify(self, record):\n",
    "        #for i in range(self.num_of_inputs):\n",
    "            #self.weight.append(float(random.randrange(-100, 101)/100))\n",
    "        #print(self.weight)\n",
    "        \n",
    "        sum_of_values = np.dot(record, self.weight)\n",
    "        #print(sum_of_values)\n",
    "        \n",
    "        if sum_of_values >= 0:\n",
    "            return 1\n",
    "        else:\n",
    "            return 0\n",
    "        return sum_of_values\n",
    "    #def train(self, expected_output, output, record):\n",
    "        \n",
    "    def train(self, expected_output, output, record):\n",
    "        rate = 0.01\n",
    "        count = 0\n",
    "        #iterations = 100\n",
    "        sum_of_values = 0\n",
    "         \n",
    "        #while iterations >= 0 and sum_of_values != expected_output:\n",
    "        for i in self.weight:\n",
    "            new = i + rate * (expected_output - output) * record[count] \n",
    "            self.weight[count] = new\n",
    "            count = count + 1\n",
    "        #sum_of_values = np.dot(record, self.weight)\n",
    "        count = 0\n",
    "        #print(sum_of_values)\n",
    "        #print(self.weight)\n",
    "        record = self.classify(record)\n",
    "        \n",
    "    \n",
    "l = Linear(5)\n",
    "l.classify([1, -1, 1, -1, 1])\n",
    "l.train(1, l.classify([1, -1, 1, -1, 1]), [1,-1, 1, -1, 1])\n",
    "print(l.classify([1,-1,1,-1,1]))\n",
    "        "
   ]
  },
  {
   "cell_type": "markdown",
   "metadata": {},
   "source": [
    "\n",
    "<u>Squashing Sigmoid Units</u>\n",
    "--------------\n",
    "![Sigmoid Unit](Sigmoid_Diagram.png)\n",
    "\n",
    "<br>Above is the diagram for the structure of a squashing sigmoid unit as we covered in class.\n",
    "\n",
    "#### 3. Create a `SigmoidUnit` object with the following, publicly-visible methods: \n",
    "- __`_ _ init _ _ `: Initializer method which takes number of inputs that this `SigmoidUnit` expects and configures it appropriately.__\n",
    "- __`classify(record)`: Method which takes a record which the method will classify. It should return the classification (i.e. the output from the `SigmoidUnit`).__\n",
    "- __`train(expected_output, output, record)`: Method which takes the expected output of the `SigmoidUnit`, the actual output of the actual output of the `SigmoidUnit`, and the input record which created the output. The method then adjusts the weights of the `SigmoidUnit` using the gradiant descent equation.__"
   ]
  },
  {
   "cell_type": "code",
   "execution_count": 836,
   "metadata": {},
   "outputs": [
    {
     "name": "stdout",
     "output_type": "stream",
     "text": [
      "1\n"
     ]
    }
   ],
   "source": [
    "# Code Goes Here\n",
    "import numpy as np\n",
    "import math\n",
    "\n",
    "class SigmoidUnit():\n",
    "    \n",
    "    def __init__(self, num_of_inputs):\n",
    "        self.weight = [float(random.randrange(-101, 100)/100) for i in range(num_of_inputs)]\n",
    "        self.num_of_inputs = num_of_inputs\n",
    "        \n",
    "    def classify(self, record):\n",
    "        #for i in range(self.num_of_inputs):\n",
    "            #self.weight.append(float(random.randrange(-100, 101)/100))\n",
    "        #print(self.weight)\n",
    "        #print(len(self.weight))\n",
    "        #print(len(record))\n",
    "        \n",
    "        sum_of_values = 1/(1 + math.exp(-np.dot(record, self.weight)))\n",
    "        \n",
    "        if sum_of_values >= 0.5:\n",
    "            return 1\n",
    "        else:\n",
    "            return 0\n",
    "        #print(sum_of_values)\n",
    "        return sum_of_values\n",
    "    def train(self, expected_output, output, record):\n",
    "        rate = 0.8\n",
    "        count = 0\n",
    "        #sum_of_values = 0\n",
    "        \n",
    "        for i in self.weight:\n",
    "            new = i + rate*(expected_output - output)*record[count]\n",
    "            self.weight[count] = new\n",
    "            count = count + 1\n",
    "        #sum_of_values = np.dot(record, self.weight)\n",
    "        record = self.classify(record)\n",
    "        count = 0\n",
    "        #print(sum_of_values)\n",
    "        #print(self.weight)\n",
    "        #print(sum_of_values)\n",
    "s = SigmoidUnit(5)\n",
    "s.classify([1, -1, 1, -1, 1])\n",
    "s.train(1, s.classify([1,- 1, 1, -1, 1]), [1, -1, 1, -1, 1])\n",
    "\n",
    "print(s.classify([1, -1, 1, -1, 1]))"
   ]
  },
  {
   "cell_type": "markdown",
   "metadata": {},
   "source": [
    "\n",
    "<u>Squashing tanh Units</u>\n",
    "--------------\n",
    "![tanh Unit](tanh_Diagram.png)\n",
    "\n",
    "<br>Above is the diagram for the structure of a squashing tanh unit as we covered in class.\n",
    "\n",
    "#### 4. Create a `TanhUnit` object with the following, publicly-visible methods: \n",
    "- __`_ _ init _ _ `: Initializer method which takes number of inputs that this `TanhUnit` expects and configures it appropriately.__\n",
    "- __`classify(record)`: Method which takes a record which the method will classify. It should return the classification (i.e. the output from the `TanhUnit`).__\n",
    "- __`train(expected_output, output, record)`: Method which takes the expected output of the `TanhUnit`, the actual output of the actual output of the `TanhUnit`, and the input record which created the output. The method then adjusts the weights of the `TanhUnit` using the gradiant descent equation.__"
   ]
  },
  {
   "cell_type": "code",
   "execution_count": 576,
   "metadata": {},
   "outputs": [
    {
     "name": "stdout",
     "output_type": "stream",
     "text": [
      "0\n"
     ]
    }
   ],
   "source": [
    "# Code Goes Here\n",
    "import math\n",
    "\n",
    "class TanhUnit():\n",
    "    \n",
    "    def __init__(self, num_of_inputs):\n",
    "        self.weight = [float(random.randrange(-101, 100)/100) for i in range(num_of_inputs)]\n",
    "        self.num_of_inputs = num_of_inputs\n",
    "        \n",
    "    def classify(self, record):\n",
    "        #for i in range(self.num_of_inputs):\n",
    "            #self.weight.append(float(random.randrange(-100, 101)/100))\n",
    "        #print(self.weight)\n",
    "        \n",
    "        sum_of_values = (math.exp(np.dot(record, self.weight)) - math.exp(-np.dot(record, self.weight)))/(math.exp(np.dot(record, self.weight)) + math.exp(-np.dot(record, self.weight)))\n",
    "        #print(sum_of_values)\n",
    "        \n",
    "        if sum_of_values >= 0:\n",
    "            return 1\n",
    "        else:\n",
    "            return 0\n",
    "        return(sum_of_values)\n",
    "    def train(self, expected_output, output, record):\n",
    "        count = 0\n",
    "        sum_of_values = 0\n",
    "        rate = 0.01\n",
    "        \n",
    "        for i in self.weight:\n",
    "            new = i + rate * (expected_output - output) * record[count]\n",
    "            self.weight[count] = new\n",
    "            count = count + 1\n",
    "        #sum_of_values = np.dot(record, self.weight)\n",
    "        count = 0\n",
    "        record = self.classify(record)\n",
    "        #print(sum_of_values)\n",
    "        #print(self.weight)\n",
    "    \n",
    "t = TanhUnit(5)\n",
    "\n",
    "t.classify([1, -1, 1, -1, 1])\n",
    "t.train(1, t.classify([1, -1, 1, -1, 1]), [1, -1, 1, -1, 1])\n",
    "print(t.classify([1,-1,1,-1,1]))"
   ]
  },
  {
   "cell_type": "markdown",
   "metadata": {},
   "source": [
    "# <u>Part 2: Application</u>"
   ]
  },
  {
   "cell_type": "markdown",
   "metadata": {},
   "source": [
    "Now that we have a variety of artificial units at our disposal, we can attempt to train them. Attached to the lab are three documents: `vote-dem.txt`, `vote-rep.txt`, and `vote-gen.txt`. Each contains a set of Congressional voting records from 1984 as well as a header containing the content of the file. Each voting record is contained in a single line of pairs of characters where 10 is considered a vote for, 01 is considered a vote against, and 11 is considered an abstention. The final bit character of the line contains the party affiliation for the Congressman: 0 for Republican and 1 for Democrat. All other lines are considered comments and start with the double slash (//).\n",
    "\n",
    "#### 5. How will you deal with abstention votes in when processing the votes?"
   ]
  },
  {
   "cell_type": "markdown",
   "metadata": {},
   "source": [
    "<font color='red'>Type answer here!</font>\n",
    "\n",
    "Yes votes will be handled as 1, no votes as -1, and abstention votes as 0. The reason for 0 is so that it won't have any effect on the training, essentially treating the votes as if they didn't count/matter. "
   ]
  },
  {
   "cell_type": "markdown",
   "metadata": {},
   "source": [
    "\n",
    "#### 6. Write a function `trainNeuron` that will take an artificial neuron, a document, and a number of iterations. This function will train the artificial neuron the specified number of times on the document passed in. When complete, the function should return the trained artificial neuron."
   ]
  },
  {
   "cell_type": "code",
   "execution_count": 849,
   "metadata": {},
   "outputs": [
    {
     "name": "stdout",
     "output_type": "stream",
     "text": [
      "Accuracy for testing on Same Doc: 0.5561797752808989\n"
     ]
    }
   ],
   "source": [
    "#Write code here'\n",
    "from textwrap import wrap\n",
    "\n",
    "k = Perceptron(16)\n",
    "r = Linear(16)\n",
    "e = TanhUnit(16)\n",
    "#i = SigmoidUnit(len(results))\n",
    "\n",
    "\n",
    "\n",
    "\n",
    "def trainNeuron(neuron, doc, iterations):\n",
    "    \n",
    "    #counter = 0\n",
    "    #print(neuron.weight)\n",
    "    f = open(doc, \"r\")\n",
    "    \n",
    "    #accuracy = open(\"C:/Users/Jon/Downloads/gen-vote.txt\")\n",
    "    \n",
    "    yes = 0\n",
    "    total = 0\n",
    "    results = []\n",
    "    new_record = []\n",
    "    count = 0\n",
    "    rep_or_dem = 0\n",
    "    \n",
    "    for l in f:\n",
    "        d = l.strip()\n",
    "        if not d.startswith(\"//\"):\n",
    "            data = l.rstrip()\n",
    "            #print(data)\n",
    "            new_data = wrap(data, 2)\n",
    "            results.append(new_data)\n",
    "    #print(results)\n",
    "            \n",
    "    for y in results:\n",
    "        \n",
    "        #print(\"ITERRRRRRRRRRRRR\", counter)\n",
    "        #print(y)\n",
    "        #counter += 1\n",
    "        for ele in y:\n",
    "            if len(y) >  count:\n",
    "                count += 1\n",
    "                #print(ele)\n",
    "                if ele == \"01\":\n",
    "                    new_record.append(-1)\n",
    "                if ele == \"10\":\n",
    "                    new_record.append(1)\n",
    "                if ele == \"11\":\n",
    "                    new_record.append(0)\n",
    "                if ele == \"1\":\n",
    "                    rep_or_dem = 1\n",
    "                    #print(\"1\")\n",
    "                if ele == \"0\":\n",
    "                    rep_or_dem = 0\n",
    "                    #print(\"0\")\n",
    "            else:\n",
    "                #print(new_record)\n",
    "                for i in range(iterations):\n",
    "                    if rep_or_dem != neuron.classify(new_record):\n",
    "                    #print(len(new_record))\n",
    "                        neuron.train(rep_or_dem, neuron.classify(new_record), new_record)\n",
    "                    #print(neuron.weight)\n",
    "                #print(\"Classifier\",neuron.classify(new_record))\n",
    "                #print(\"Rep or Dem\", rep_or_dem)\n",
    "                #print(\"Total\", total)\n",
    "                #print(\"Yes\", yes)\n",
    "                #print(\"record\", new_record)\n",
    "                #print(\"First\",neuron.classify(new_record))\n",
    "                #print(neuron.classify(new_record))\n",
    "                if neuron.classify(new_record) == rep_or_dem:\n",
    "                    yes += 1\n",
    "                total += 1\n",
    "                \n",
    "                    \n",
    "                count = 0\n",
    "                new_record.clear()\n",
    "                #print(results)\n",
    "    #print(new_record)\n",
    "    #print(results)\n",
    "    #print(neuron.classify(new_record))\n",
    "    #print(rep_or_dem)\n",
    "    #print(total)\n",
    "    #print(yes)\n",
    "    #print(neuron.weight)\n",
    "    #print(total)\n",
    "    print(\"Accuracy for testing on Same Doc:\", yes/total)\n",
    "    #print(neuron.weight)\n",
    "    \n",
    "    #file = open(\"C:/Users/Jon/Downloads/vote-gen.txt\")\n",
    "    #yes = 0\n",
    "    #total = 0\n",
    "    #results = []\n",
    "    #new_record = []\n",
    "    #count = 0\n",
    "    #rep_or_dem = 0\n",
    "    \n",
    "    return neuron\n",
    "    \n",
    "        \n",
    "            #if wrap(data, 2) == \"01\":\n",
    "               #results.append(\"0\")\n",
    "        #print(results)\n",
    "        #print(new_data)\n",
    "            \n",
    "            #print(wrap(data, 2))\n",
    "            \n",
    "        \n",
    "            \n",
    "    #for i in range(iterations):\n",
    "        #neuron.train(1, neuron.classify(new_record), new_record)\n",
    "        #if neuron.train(1, neuron.classify([1, -1, 1, -1, 1]), [1, -1, 1, -1, 1]) >= neuron.train(expected_output):\n",
    "            #return neuron.train(1, neuron.classify([1, -1, 1, -1, 1]), [1, -1, 1, -1, 1])\n",
    "    #print(results)\n",
    "    #print(new_record)\n",
    "    \n",
    "#t = trainNeuron(p, 1, 100)\n",
    "\n",
    "i = SigmoidUnit(16)\n",
    "t = trainNeuron(k, \"C:/Users/Jon/Downloads/vote-gen.txt\", 1)\n",
    "\n",
    "\n",
    "    "
   ]
  },
  {
   "cell_type": "markdown",
   "metadata": {},
   "source": [
    "<br>\n",
    "Now that we have artificial neurons and a method of training them, we need to have them learn something. Our goal is to teach a neuron so that it can predict the party of a Congressman based on a given voting pattern. However, to do this we need to determine the type of artificial neuron to use, depending on the type of artificial neuron how the output will be classified, and the number of training iterations to run.\n",
    "\n",
    "#### 7. What type of artificial neuron will you use? How will you classify the output of that artificial neuron? How many training iterations will you run? Provide all supporting rational for your decisions. The rational may or may not involve writing code to decide. If you do write code, please include it below."
   ]
  },
  {
   "cell_type": "code",
   "execution_count": 883,
   "metadata": {},
   "outputs": [
    {
     "name": "stdout",
     "output_type": "stream",
     "text": [
      "Accuracy for testing on Same Doc: 1.0\n"
     ]
    }
   ],
   "source": [
    "#Any supporting code goes here\n",
    "\n",
    "t = trainNeuron(k, \"C:/Users/Jon/Downloads/vote-gen.txt\", 25)\n",
    "\n"
   ]
  },
  {
   "cell_type": "markdown",
   "metadata": {},
   "source": [
    "<font color='red'>Type answer here!</font>\n",
    "\n",
    "The artifical neuron that I will use will be a Perceptron. The output for this artificial neuron is: \n",
    "if n >= 0.5, return 1.\n",
    "Otherwise, return 0.\n",
    "\n",
    "The reason 0.5 is chosen is because it is the middle value in a signmoid function, considering that the values go from 0 to 1. \n",
    "\n",
    "After running tests, I have concluded that the number of iterations ran should be around 20-25 times. Around this number, the neurons are fully trained on the files they were trained on(100% accuracy on the file itself). At that point, we can pass in the gen-vote file to see how the accuracy is on that file. \n",
    "\n"
   ]
  },
  {
   "cell_type": "markdown",
   "metadata": {},
   "source": [
    "<br>\n",
    "We now need to train our artificial neurons. We'll need to write code to train three different artificial neurons of the type that you chose in Question 7.  One neuron should train on `vote-dem.txt`, one should train on `vote-rep.txt`, and one should train on `vote-gen.txt`. Once trained, you should test the for accuracy using the `vote-gen.txt` file.\n",
    "\n",
    "#### 8.\tWrite the code described above and display the accuracy for each neuron to the screen. This accuracy information should be labeled to be understood."
   ]
  },
  {
   "cell_type": "code",
   "execution_count": 880,
   "metadata": {},
   "outputs": [
    {
     "name": "stdout",
     "output_type": "stream",
     "text": [
      "Accuracy for testing on Same Doc: 0.9831460674157303\n",
      "Accuracy for testing on Same Doc: 0.989247311827957\n",
      "Accuracy for testing on Same Doc: 0.9882352941176471\n",
      "Accuracy for testing on Gen Vote File: 0.550561797752809\n",
      "Accuracy for testing on Gen Vote File: 0.5168539325842697\n"
     ]
    }
   ],
   "source": [
    "#Write code here\n",
    "\n",
    "a = Perceptron(16)\n",
    "a1 = Perceptron(16)\n",
    "a2 = Perceptron(16)\n",
    "\n",
    "new = trainNeuron(a, \"C:/Users/Jon/Downloads/vote-gen.txt\", 20)\n",
    "new2 = trainNeuron(a1, \"C:/Users/Jon/Downloads/vote-dem.txt\", 20)\n",
    "new3 = trainNeuron(a2, \"C:/Users/Jon/Downloads/vote-rep.txt\", 20)\n",
    "\n",
    "\n",
    "\n",
    "def accuracy(neuron):\n",
    "    acc_results = []\n",
    "    acc_count = 0 \n",
    "    acc_record = []\n",
    "    r_d = 0\n",
    "    y = 0\n",
    "    t = 0\n",
    "    #print(neuron.weight)\n",
    "    \n",
    "    file = open(\"C:/Users/Jon/Downloads/vote-gen.txt\", \"r\")\n",
    "    \n",
    "    for line in file:\n",
    "        li = line.strip()\n",
    "        if not li.startswith(\"//\"):\n",
    "            dat = line.rstrip()\n",
    "            #print(data)\n",
    "            new_dat = wrap(dat, 2)\n",
    "            acc_results.append(new_dat)\n",
    "    #print(results)\n",
    "            \n",
    "    for e in acc_results:\n",
    "        #print(e)\n",
    "        #print(\"ITERRRRRRRRRRRRR\", counter)\n",
    "        #print(y)\n",
    "        #counter += 1\n",
    "        for item in e:\n",
    "            if len(e) >  acc_count:\n",
    "                acc_count += 1\n",
    "                #print(ele)\n",
    "                if item == \"01\":\n",
    "                    acc_record.append(-1)\n",
    "                if item == \"10\":\n",
    "                    acc_record.append(1)\n",
    "                if item == \"11\":\n",
    "                    acc_record.append(0)\n",
    "                if item == \"1\":\n",
    "                    r_d = 1\n",
    "                    #print(\"1\")\n",
    "                if item == \"0\":\n",
    "                    r_d = 0\n",
    "                    #print(\"0\")\n",
    "            else:\n",
    "                #print(new_record)\n",
    "                #for i in range(iterations):\n",
    "                    #print(len(new_record))\n",
    "                    #neuron.train(rep_or_dem, neuron.classify(new_record), new_record)\n",
    "                #print(\"Classifier\",neuron.classify(new_record))\n",
    "                #print(\"Rep or Dem\", rep_or_dem)\n",
    "                #print(\"Total\", total)\n",
    "                #print(\"Yes\", yes)\n",
    "                #print(\"record\", new_record)\n",
    "                #print(trained)\n",
    "                #print(\"LOOK\",neuron.classify(acc_record))\n",
    "                #print(neuron.classify(acc_record))\n",
    "                #print(acc_record)\n",
    "                #print(neuron.classify(acc_record))\n",
    "                #print(r_d)\n",
    "                if neuron.classify(acc_record) == r_d:\n",
    "                    y += 1\n",
    "                t += 1\n",
    "                \n",
    "                    \n",
    "                acc_count = 0\n",
    "                acc_record.clear()\n",
    "    \n",
    "   # print(neuron.weight)\n",
    "    #print(y)\n",
    "    #print(t)\n",
    "    print(\"Accuracy for testing on Gen Vote File:\", y/t)\n",
    "\n",
    "\n",
    "\n",
    "\n",
    "#new4 = trainNeuron(d, \"C:/Users/Jon/Downloads/vote-gen.txt\", 20)\n",
    "#trainNeuron(b,\"C:/Users/Jon/Downloads/vote-rep.txt\", 10)\n",
    "#trainNeuron(c,\"C:/Users/Jon/Downloads/vote-dem.txt\", 10)\n",
    "\n",
    "#new4 = accuracy(new)\n",
    "#new5 = accuracy(new2)\n",
    "#new6 = accuracy(new3)\n",
    "\n",
    "\n",
    "\n",
    "#accuracy(new)\n",
    "\n",
    "\n",
    "### NO need to call this functino on te first perceptron since it is already printing the accuracy information in the TrainNeuron Funcation.\n",
    "accuracy(a1)\n",
    "accuracy(a2)\n",
    "\n",
    "\n",
    "#new.classify([-1,-1,-1, -1, -1, -1, -1, -1, -1, -1, -1, -1, -1, -1, -1, -1])\n",
    "#new2.classify([-1,-1,-1, -1, -1, -1, -1, -1, -1, -1, -1, -1, -1, -1, -1, -1])\n",
    "#new3.classify([-1,-1,-1, -1, -1, -1, -1, -1, -1, -1, -1, -1, -1, -1, -1, -1])\n",
    "#new4.classify([-1,-1,-1, -1, -1, -1, -1, -1, -1, -1, -1, -1, -1, -1, -1, -1])"
   ]
  },
  {
   "cell_type": "markdown",
   "metadata": {},
   "source": [
    "\n",
    "#### 9.\tWhat are the comparative accuracies of the three trained neurons? Is this what you expected? Why or why not? How would you account for the differences in accuracy?"
   ]
  },
  {
   "cell_type": "markdown",
   "metadata": {},
   "source": [
    "I did two different accuracy tests.\n",
    "\n",
    "The first accuracy test I did was seeing how well the trained neuron did on the document it was trained on. No surprise, with enough iterations, it eventually reaches 100%. I found that this is usually around 10 - 15 iterations.\n",
    "\n",
    "The second accuracy test I did was on testing the trained neurons on the vote-gen.txt file. The neuron that was trained on this file obvisouly reaches 100% through enough iterations, however, the dem-vote.txt and rep-vote.txt files usually stalled around 50-55%. The number of iterations doesn't result in the accuracy going up significantly(The highest I got it to was 60% for 100 iterations.). This makes sense due to the fact that there is no way that those neurons would be able to 100% accuartely perdict the results of every record if it was only trained for part of the record. I agree with the results I got. \n",
    "\n",
    "NOTE: \n",
    "\n",
    "It may seem like the accuracy doesn't change much from 1 iteration to 100 iterations, however, there is a significant change. The lower limit of the accuaracy is around high-40% at 1 iteration and the lower limit of the accuracy is around low-%50 at 100 iterations.\n",
    "\n",
    "Also, the lesser trained neuron at some points will have a higher accuracy than the more highly trained neuron. I'm not sure if this is suppose to happen, but I chalk it up to the fact that the perceptron being trained starts off with bad random values and the iterations weren't enough to adjust for it yet.  \n",
    "\n",
    "Doing tests below will yield the results.\n",
    "\n",
    "\n"
   ]
  },
  {
   "cell_type": "code",
   "execution_count": 881,
   "metadata": {},
   "outputs": [
    {
     "name": "stdout",
     "output_type": "stream",
     "text": [
      "Accuracy for testing on Same Doc: 0.40860215053763443\n",
      "Accuracy for testing on Same Doc: 0.7294117647058823\n",
      "Accuracy for testing on Gen Vote File: 0.5112359550561798\n",
      "Accuracy for testing on Gen Vote File: 0.46629213483146065\n",
      "Accuracy for testing on Same Doc: 1.0\n",
      "Accuracy for testing on Same Doc: 1.0\n",
      "Accuracy for testing on Gen Vote File: 0.5561797752808989\n",
      "Accuracy for testing on Gen Vote File: 0.5280898876404494\n"
     ]
    }
   ],
   "source": [
    "l1 = Perceptron(16)\n",
    "l2 = Perceptron(16)\n",
    "l3 = Perceptron(16)\n",
    "l4 = Perceptron(16)\n",
    "\n",
    "\n",
    "\n",
    "udp1 = trainNeuron(l1, \"C:/Users/Jon/Downloads/vote-dem.txt\", 1)\n",
    "udp2 = trainNeuron(l2, \"C:/Users/Jon/Downloads/vote-rep.txt\", 1)\n",
    "\n",
    "accuracy(udp1)\n",
    "accuracy(udp2)\n",
    "\n",
    "\n",
    "udp3 = trainNeuron(l3, \"C:/Users/Jon/Downloads/vote-dem.txt\", 100)\n",
    "udp4 = trainNeuron(l4, \"C:/Users/Jon/Downloads/vote-rep.txt\", 100)\n",
    "\n",
    "accuracy(udp3)\n",
    "accuracy(udp4)"
   ]
  },
  {
   "cell_type": "code",
   "execution_count": null,
   "metadata": {},
   "outputs": [],
   "source": []
  },
  {
   "cell_type": "code",
   "execution_count": null,
   "metadata": {},
   "outputs": [],
   "source": []
  },
  {
   "cell_type": "code",
   "execution_count": null,
   "metadata": {},
   "outputs": [],
   "source": []
  },
  {
   "cell_type": "code",
   "execution_count": null,
   "metadata": {},
   "outputs": [],
   "source": []
  },
  {
   "cell_type": "code",
   "execution_count": null,
   "metadata": {},
   "outputs": [],
   "source": []
  },
  {
   "cell_type": "code",
   "execution_count": null,
   "metadata": {},
   "outputs": [],
   "source": []
  },
  {
   "cell_type": "code",
   "execution_count": null,
   "metadata": {},
   "outputs": [],
   "source": []
  },
  {
   "cell_type": "code",
   "execution_count": null,
   "metadata": {},
   "outputs": [],
   "source": []
  },
  {
   "cell_type": "code",
   "execution_count": null,
   "metadata": {},
   "outputs": [],
   "source": []
  },
  {
   "cell_type": "code",
   "execution_count": null,
   "metadata": {},
   "outputs": [],
   "source": []
  },
  {
   "cell_type": "code",
   "execution_count": null,
   "metadata": {},
   "outputs": [],
   "source": []
  },
  {
   "cell_type": "code",
   "execution_count": null,
   "metadata": {},
   "outputs": [],
   "source": []
  }
 ],
 "metadata": {
  "kernelspec": {
   "display_name": "Python 3",
   "language": "python",
   "name": "python3"
  },
  "language_info": {
   "codemirror_mode": {
    "name": "ipython",
    "version": 3
   },
   "file_extension": ".py",
   "mimetype": "text/x-python",
   "name": "python",
   "nbconvert_exporter": "python",
   "pygments_lexer": "ipython3",
   "version": "3.7.6"
  }
 },
 "nbformat": 4,
 "nbformat_minor": 4
}
