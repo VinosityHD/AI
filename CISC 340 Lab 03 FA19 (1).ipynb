{
 "cells": [
  {
   "attachments": {
    "HUBanner.png": {
     "image/png": "[encoded data removed]"
    }
   },
   "cell_type": "markdown",
   "metadata": {},
   "source": [
    "![HUBanner.png](attachment:HUBanner.png)\n",
    "<br>\n",
    "# CISC 340\n",
    "# Introduction to Artificial Intelligence\n",
    "## Lab Booklet #03\n",
    "## Lab Title: Heurisitic Searching\n",
    "***\n",
    "### **Instructors**\n",
    "### Brian Grey M.S.\n",
    "### Chad Van Chu M.S.\n",
    "***"
   ]
  },
  {
   "cell_type": "markdown",
   "metadata": {},
   "source": [
    "# Objectives\n",
    "#### Searching problems are central to gaining an understanding of Artificial Intelligence. We will be continuing our work from the last class by implementing two classic algorithms central to the concept of modern AI: Dijkstra’s algorithm and the heuristic-based extension, A*. We will construct an algorithm so that, if fed information in the proper format, our algorithm can find the shortest path between two specified points and, potentially, display the state of the search along the way.\n",
    "\n",
    "#### After completing this lab, you will be able to:\n",
    "\n",
    "- __Create and implement a novel design for representing a graph__\n",
    "- __Understand the differences in theory and application between Dijksta’s search algorithm and A*__\n",
    "- __Understand the principle of an admissible optimistic heuristic__\n",
    "- __Design and parameterize robust and necessary output__"
   ]
  },
  {
   "cell_type": "markdown",
   "metadata": {},
   "source": [
    "# Resources\n",
    "#### While the lab will explain everything that you need to know, you may want to consult the following sources for additional knowledge:\n",
    "\n",
    "- [https://en.wikipedia.org/wiki/Dijkstra%27s_algorithm](https://en.wikipedia.org/wiki/Dijkstra%27s_algorithm)\n",
    "- [https://en.wikipedia.org/wiki/A*_search_algorithm](https://en.wikipedia.org/wiki/A*_search_algorithm)"
   ]
  },
  {
   "cell_type": "markdown",
   "metadata": {},
   "source": [
    "# Deliverables\n",
    "#### For this lab, you will need to submit:\n",
    "\n",
    "- Jupyter notebook files (.ipynb), named and coded as instructed. \n",
    "  - CISC 340 Lab 03 FA19.ipynb"
   ]
  },
  {
   "cell_type": "markdown",
   "metadata": {},
   "source": [
    "# Instructions & Questions\n",
    "Dijkstra and A* both work on directed and undirected connected graphs where edge weights are non-negative. Given this we are going to need to construct a graph of this type and store it within our code. We can then pass this graph to the function which runs the search. The call to the function is to take the form:\n",
    "\n",
    "`searchXxxxx(Graph g, Node start, Node end, bit robust_output)`\n",
    "\n",
    "Where `Xxxxx` is the name of the algorithm, `Graph g` is the graph being searched, `Node start` is the starting point, `Node end` is the ending point, and `bit robust_output` represents whether the program will display more output while it is running.\n",
    "When storing your graph, you will need to store each node within the graph and the connections between the nodes. For this lab, we are going to assume that edge weights are determined by Euclidean distance. Therefore, you will also need to store the coordinate of each node.\n",
    "\n",
    "For your implementation, you will run a search using Dijkstra and A* on the graph given to determine the shortest path for `Node start` to `Node end`. The program will output the shortest path between the two nodes, the length of the path, and the number of nodes visited for each algorithm."
   ]
  },
  {
   "cell_type": "markdown",
   "metadata": {},
   "source": [
    "# <u>Part 1: Design</u>"
   ]
  },
  {
   "cell_type": "markdown",
   "metadata": {},
   "source": [
    "First, you need to determine certain design aspects regarding your solution.\n",
    "\n",
    "#### 1. Explain, in detail, how you will store your graph and nodes within your code. Be sure to explain how the data will be structured internally."
   ]
  },
  {
   "cell_type": "markdown",
   "metadata": {},
   "source": [
    "I will use an adjacency list to store my nodes within the graph. Each node and it's neighbors will be stored. This will be done by using nested dictionaires."
   ]
  },
  {
   "cell_type": "markdown",
   "metadata": {},
   "source": [
    "\n",
    "#### 2. Explain, in detail, what additional information you will display when the <i>robust_output</i> flag is set to true. Information may be displayed before the search algorithm starts, during each iteration of searching, or after the search algorithm completes. Be sure to include when your additional data will be displayed."
   ]
  },
  {
   "cell_type": "markdown",
   "metadata": {},
   "source": [
    "While robust_output is true, we can display the currently visited list and show each step of each iteration of the algorithm. The information will be displayed while the code is running, during iterations. It will show all information needed to track what is going on in the program and how the program is getting the results it is getting. "
   ]
  },
  {
   "cell_type": "markdown",
   "metadata": {},
   "source": [
    "# <u>Part 2: Concept</u>"
   ]
  },
  {
   "cell_type": "markdown",
   "metadata": {},
   "source": [
    "\n",
    "#### 3. Translate the following maze into your graph storage methodology. You may document this using conceptual representations or code-based representations. Be sure to include “dead end” nodes in your graph.\n",
    "\n",
    "![Maze](maze.png)"
   ]
  },
  {
   "cell_type": "markdown",
   "metadata": {},
   "source": [
    "g = {\"a\": {\"b\": 4, \"c\": 4},\n",
    "\"b\": {\"a\": 4}, \n",
    "\"c\": {\"a\": 4, \"d\": 3, \"e\": 7},\n",
    "\"d\": {\"c\": 3},\n",
    "\"e\": {\"c\": 7, \"f\": 2, \"g\": 4, \"h\": 8},\n",
    "\"f\": {\"e\": 2},\n",
    "\"g\": {\"e\": 4},\n",
    "\"h\": {\"i\": 3, \"j\": 8, \"e\": 8},\n",
    "\"i\": {\"h\": 3},\n",
    "\"j\": {\"k\": 2, \"l\": 2, \"h\": 8}, \n",
    "\"k\": {\"m\": 1, \"n\": 2, \"j\": 2},\n",
    "\"l\": {\"j\": 2},\n",
    "\"m\": {\"k\": 1},\n",
    "\"n\": {\"k\": 2}}\n",
    "\n",
    "Each key represents the vertex. Each vertex within the key is it's neighbor and the weight represent the distance between the two nodes. \n",
    "\n",
    "h = {\"a\": (0,0), #Start node(x,y)\n",
    "     \"b\": (1,1),\n",
    "     \"c\": (1,3),\n",
    "     \"d\": (3,2),\n",
    "     \"e\": (4,3),\n",
    "     \"f\": (5,4),\n",
    "     \"g\": (6,3),\n",
    "     \"h\": (6,1),\n",
    "     \"i\": (7,1),\n",
    "     \"j\": (8,3),\n",
    "     \"k\": (7,4),\n",
    "     \"l\": (9,2),\n",
    "     \"m\": (6,4),\n",
    "     \"n\": (9,4)} #End node\n",
    "     \n",
    "This is for the Euclidean distance. This was found by translating the maze into a 9x4 grid. Each coordinate represents the location of the node within said grid. This will be used for the A* algorithm only. Not needed for Dijsktra."
   ]
  },
  {
   "cell_type": "markdown",
   "metadata": {},
   "source": [
    "# <u>Part 3: Implementation</u>"
   ]
  },
  {
   "cell_type": "markdown",
   "metadata": {},
   "source": [
    "\n",
    "#### 4.\tImplement your solution for the `searchDijsktra` function. You may write any helper functions that you wish. Be sure to test this code with the graph you created in Question 4, above, as well as with any other graph examples that you wish to use."
   ]
  },
  {
   "cell_type": "code",
   "execution_count": 343,
   "metadata": {},
   "outputs": [
    {
     "name": "stdout",
     "output_type": "stream",
     "text": [
      "The path is: ['n', 'k', 'j', 'h', 'e', 'c', 'a'] Total Distance from start node to end node: 31\n"
     ]
    }
   ],
   "source": [
    "\n",
    "\n",
    "\n",
    "\n",
    "dict_of_dist = {}\n",
    "dict_of_unvisited = {v: float(\"inf\") for v in g}\n",
    "dict_of_parents = {}\n",
    "list_of_path = []\n",
    "\n",
    "def searchDijsktra(g, start_node, end_node, robust_output):\n",
    "    \n",
    "   \n",
    "\n",
    "\n",
    "    if start_node == end_node: #Base case\n",
    "        previous_node = end_node\n",
    "        while previous_node != None:\n",
    "            if robust_output == 1:\n",
    "                print(\"Previous Nodes:\", previous_node)\n",
    "            list_of_path.append(previous_node) #Add nodes to the path\n",
    "            previous_node = dict_of_parents.get(previous_node, None) #Gets parents, if it can't, returns none.\n",
    "        print(\"The path is:\", (list_of_path), \"Total Distance from start node to end node:\", dict_of_dist[end_node])\n",
    "\n",
    "        \n",
    "    else: #If are base case doesn't get hit\n",
    "        if not dict_of_parents: #First run, set beginning node to 0\n",
    "            dict_of_dist[start_node] = 0\n",
    "    \n",
    "        for n in g[start_node]: #iterate through each neighbor of current node\n",
    "            if robust_output == 1:#Output\n",
    "                print(\"neighbor\", n)\n",
    "            if n in dict_of_unvisited:#If we haven't visited it, visit it\n",
    "                current_dist = g[start_node][n] + dict_of_dist[start_node] #\n",
    "                if robust_output == 1:#output\n",
    "                    print(\"New distance\", current_dist)\n",
    "                if current_dist < dict_of_unvisited.get(n):#if the current distance obtained is less than the distance stored in unvisited\n",
    "                    dict_of_unvisited[n] = current_dist#set the new distance\n",
    "                    dict_of_dist[n] = current_dist\n",
    "                    dict_of_parents[n] = start_node#Keeps track of the parents.\n",
    "                    if robust_output == 1:#Output\n",
    "                        print(\"list of distances\", dict_of_dist)\n",
    "                        print(\"list of parents\", dict_of_parents)\n",
    "        del dict_of_unvisited[start_node]\n",
    "        if robust_output == 1:\n",
    "            print(\"unvisited\", dict_of_unvisited)\n",
    "        \n",
    "        new_node = min(dict_of_unvisited, key=dict_of_unvisited.get)\n",
    "        if robust_output == 1:\n",
    "            \n",
    "            print(\"newest node:\", new_node)\n",
    "        searchDijsktra(g, new_node, end_node, robust_output)\n",
    "    \n",
    "    ####GET RID OF THE VISITED LIST, WE ONLY NEED THE UNVISITED LIST !!!!!!!!!!!!!!!!!!!!!!!!!!!!!!!!!!!!!!!!!!!!!!!!!!!!!!!!!!!!!!!!!!!!!!!!!!!!!!!!!!!!!!!!!!!!!!!!!!!!!!!!!!!!!!!!!!!!!!!\n",
    "                \n",
    "\n",
    "                \n",
    "                \n",
    "                \n",
    "            \n",
    "            \n",
    "g = {\"a\": {\"b\": 4, \"c\": 4},\n",
    "\"b\": {\"a\": 4}, \n",
    "\"c\": {\"a\": 4, \"d\": 3, \"e\": 7},\n",
    "\"d\": {\"c\": 3},\n",
    "\"e\": {\"c\": 7, \"f\": 2, \"g\": 4, \"h\": 8},\n",
    "\"f\": {\"e\": 2},\n",
    "\"g\": {\"e\": 4},\n",
    "\"h\": {\"i\": 3, \"j\": 8, \"e\": 8},\n",
    "\"i\": {\"h\": 3},\n",
    "\"j\": {\"k\": 2, \"l\": 2, \"h\": 8}, \n",
    "\"k\": {\"m\": 1, \"n\": 2, \"j\": 2},\n",
    "\"l\": {\"j\": 2},\n",
    "\"m\": {\"k\": 1},\n",
    "\"n\": {\"k\": 2}}\n",
    "\n",
    "searchDijsktra(g, \"a\", \"n\", 0) #Change robust output to 1 for output, 0 for just the results"
   ]
  },
  {
   "cell_type": "markdown",
   "metadata": {},
   "source": [
    "\n",
    "#### 5. Implement your solution for the `searchAStar` function. You may write any helper functions that you wish. Be sure to test this code with the graph you created in Question 4, above, as well as with any other graph examples that you wish to use."
   ]
  },
  {
   "cell_type": "code",
   "execution_count": 342,
   "metadata": {},
   "outputs": [
    {
     "name": "stdout",
     "output_type": "stream",
     "text": [
      "The path is: ['n', 'k', 'j', 'h', 'e', 'c', 'a'] Total Distance from start node to end node in path(Euclidean Distance and Distance between nodes combined): 51.81813151138371\n"
     ]
    }
   ],
   "source": [
    "import math #For Square Root\n",
    "\n",
    "\n",
    "dict_of_dist = {}\n",
    "unvisited = {v: float(\"inf\") for v in g}\n",
    "dict_of_parents = {}\n",
    "list_of_path = []\n",
    "hueristic = {}\n",
    "\n",
    "\n",
    "def searchA(g, h, start_node, end_node, robust_output):\n",
    "    \n",
    "   #This is mostly the same at the dijkstra implementation EXCEPT the method of calculating the distances are different. Therefore, the traversal should be different as well. But, the result should be the same\n",
    "\n",
    "\n",
    "    if start_node == end_node: #Base Case, if we reach the end node, stop.\n",
    "        previous_node = end_node \n",
    "        while previous_node != None:\n",
    "            if robust_output == 1: #Output\n",
    "                print(\"Previous Nodes:\", previous_node)\n",
    "            list_of_path.append(previous_node) #Add nodes to the path\n",
    "            if robust_output == 1:\n",
    "                print(dict_of_parents)\n",
    "            previous_node = dict_of_parents.get(previous_node, None) #Gets parents, if it can't, returns none.\n",
    "        print(\"The path is:\", (list_of_path), \"Total Distance from start node to end node in path(Euclidean Distance and Distance between nodes combined):\", dict_of_dist[end_node])\n",
    "\n",
    "        \n",
    "    else:\n",
    "        if not dict_of_parents: \n",
    "            dict_of_dist[start_node] = 0 \n",
    "            hueristic[start_node] = 0\n",
    "    \n",
    "        for n in g[start_node]:\n",
    "            if robust_output == 1: #output\n",
    "                print(\"neighbor\", n)\n",
    "            if n in unvisited:\n",
    "                current_dist = dict_of_dist[start_node] + g[start_node][n]\n",
    "                Euclidean = math.sqrt(abs((h[n][0] - h[end_node][0]))**2 + (abs(h[n][1] - h[end_node][1]))**2) #Euclidean distance between 2 points is calculated by: sqrt(x1-x2)^2 + (y1-y2)^2. This gives us a the 'true'(straight line) distance of the current and the end node. \n",
    "                \n",
    "                if robust_output == 1:\n",
    "                \n",
    "                    print(\"x1\",h[n][0])\n",
    "                    print(\"x2\",h[end_node][0])\n",
    "                    print(\"y1\",h[n][1])\n",
    "                    print(\"y2\",h[end_node][1])\n",
    "            \n",
    "                    print(\"Result from Euclidean formula\", Euclidean)\n",
    "                f = current_dist + Euclidean\n",
    "\n",
    "                #print(f)\n",
    "                hueristic[n] = f\n",
    "                #print(hueristic)\n",
    "                \n",
    "                if robust_output == 1:\n",
    "                    print(\"New distance\", f)#Output\n",
    "                if hueristic[n] < unvisited.get(n):\n",
    "                    dict_of_dist[n] = hueristic[n]\n",
    "                    dict_of_parents[n] = start_node\n",
    "                    if robust_output == 1:\n",
    "                        print(\"list of distances\", dict_of_dist) #Output\n",
    "                        print(\"list of parents\", dict_of_parents) #Output\n",
    "                        \n",
    "        \n",
    "        \n",
    "    \n",
    "        del unvisited[start_node]\n",
    "        del hueristic[start_node]\n",
    "        \n",
    "            \n",
    "        \n",
    "        new_node = min(hueristic, key=hueristic.get)#The new node we select should be the lowest neighbor of the current node.\n",
    "       \n",
    "        if robust_output == 1:\n",
    "            print(\"The new minimum node\", min(hueristic, key=hueristic.get))\n",
    "            print(\"unvisited\", unvisited) #Output\n",
    "            print(\"hueristic:\", hueristic)\n",
    "            print(\"newest node:\", new_node)#Output\n",
    "        searchA(g, h, new_node, end_node, robust_output)\n",
    "    \n",
    "   \n",
    "                \n",
    "                \n",
    "                \n",
    "                \n",
    "                \n",
    "            \n",
    "            \n",
    "g = {\"a\": {\"b\": 4, \"c\": 4},\n",
    "\"b\": {\"a\": 4}, \n",
    "\"c\": {\"a\": 4, \"d\": 3, \"e\": 7},\n",
    "\"d\": {\"c\": 3},\n",
    "\"e\": {\"c\": 7, \"f\": 2, \"g\": 4, \"h\": 8},\n",
    "\"f\": {\"e\": 2},\n",
    "\"g\": {\"e\": 4},\n",
    "\"h\": {\"i\": 3, \"j\": 8, \"e\": 8},\n",
    "\"i\": {\"h\": 3},\n",
    "\"j\": {\"k\": 2, \"l\": 2, \"h\": 8}, \n",
    "\"k\": {\"m\": 1, \"n\": 2, \"j\": 2},\n",
    "\"l\": {\"j\": 2},\n",
    "\"m\": {\"k\": 1},\n",
    "\"n\": {\"k\": 2}}\n",
    "\n",
    "#H is a dictionary of the coordinates of each point of the map. To further explain, if the maze was made into a 9x4 grid, with point(0,0) being start and point(9,4) being the end node, and each coordinate was evenly distrubited,  then the following coordinates would be the correct positions of each vertex in the maze.\n",
    "#To clear up any confusion, ask me in class about it. I can better explain it in person and show you how I did it. But I basically just put the maze into a grid, which was in correspondence to the method I used to obtain the distance, and the coordinates represent a spot on that grid.\n",
    "\n",
    "\n",
    "h = {\"a\": (0,0), #Start node(x,y)\n",
    "     \"b\": (1,1),\n",
    "     \"c\": (1,3),\n",
    "     \"d\": (3,2),\n",
    "     \"e\": (4,3),\n",
    "     \"f\": (5,4),\n",
    "     \"g\": (6,3),\n",
    "     \"h\": (6,1),\n",
    "     \"i\": (7,1),\n",
    "     \"j\": (8,3),\n",
    "     \"k\": (7,4),\n",
    "     \"l\": (9,2),\n",
    "     \"m\": (6,4),\n",
    "     \"n\": (9,4)} #End node\n",
    "         \n",
    "\n",
    "\n",
    "searchA(g, h, \"a\", \"n\", 0) #change the robust_output to 1 for output, 0 for just the results.\n"
   ]
  },
  {
   "cell_type": "markdown",
   "metadata": {},
   "source": [
    "\n",
    "#### 6.\tHow does the performance of your `searchDijsktra` function compare with the performance of the `searchAStar` function? Explain, in detail, with whatever relevant data you have from your code."
   ]
  },
  {
   "cell_type": "markdown",
   "metadata": {},
   "source": [
    "The A star program ran slightly faster than the the dijkstra algorithm. This is shown by the total number of steps taken in each program. In the Dijsktra algorithm, we visited every node in the graph (this is due to how the graph was built, not the algorithm itself). With A*, we visited one less node (m) and in result, it was slighly faster. If we were to use different graphs, than results may be different, but A* should always perform better than Dijsktra. "
   ]
  },
  {
   "cell_type": "code",
   "execution_count": null,
   "metadata": {},
   "outputs": [],
   "source": []
  }
 ],
 "metadata": {
  "kernelspec": {
   "display_name": "Python 3",
   "language": "python",
   "name": "python3"
  },
  "language_info": {
   "codemirror_mode": {
    "name": "ipython",
    "version": 3
   },
   "file_extension": ".py",
   "mimetype": "text/x-python",
   "name": "python",
   "nbconvert_exporter": "python",
   "pygments_lexer": "ipython3",
   "version": "3.7.6"
  }
 },
 "nbformat": 4,
 "nbformat_minor": 4
}
